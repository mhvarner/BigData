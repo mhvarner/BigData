{
  "nbformat": 4,
  "nbformat_minor": 0,
  "metadata": {
    "colab": {
      "name": "SparkChallenge.ipynb",
      "provenance": [],
      "authorship_tag": "ABX9TyNPNG12gRrfuBvkw/TEN1XN",
      "include_colab_link": true
    },
    "kernelspec": {
      "name": "python3",
      "display_name": "Python 3"
    }
  },
  "cells": [
    {
      "cell_type": "markdown",
      "metadata": {
        "id": "view-in-github",
        "colab_type": "text"
      },
      "source": [
        "<a href=\"https://colab.research.google.com/github/mhvarner/BigData/blob/master/SparkChallenge.ipynb\" target=\"_parent\"><img src=\"https://colab.research.google.com/assets/colab-badge.svg\" alt=\"Open In Colab\"/></a>"
      ]
    },
    {
      "cell_type": "code",
      "metadata": {
        "id": "P4ApdDbJi6yr",
        "colab_type": "code",
        "colab": {}
      },
      "source": [
        "# Install Java, Spark, and Findspark\n",
        "!apt-get install openjdk-8-jdk-headless -qq > /dev/null\n",
        "!wget -q http://www-us.apache.org/dist/spark/spark-2.4.6/spark-2.4.6-bin-hadoop2.7.tgz\n",
        "!tar xf spark-2.4.6-bin-hadoop2.7.tgz\n",
        "!pip install -q findspark\n",
        "\n",
        "# Set Environment Variables\n",
        "import os\n",
        "os.environ[\"JAVA_HOME\"] = \"/usr/lib/jvm/java-8-openjdk-amd64\"\n",
        "os.environ[\"SPARK_HOME\"] = \"/content/spark-2.4.6-bin-hadoop2.7\"\n",
        "\n",
        "# Start a SparkSession\n",
        "import findspark\n",
        "findspark.init()\n",
        "\n",
        "import pyspark"
      ],
      "execution_count": 2,
      "outputs": []
    },
    {
      "cell_type": "code",
      "metadata": {
        "id": "VjJshr97D-oJ",
        "colab_type": "code",
        "colab": {
          "base_uri": "https://localhost:8080/",
          "height": 204
        },
        "outputId": "7a0d08d7-3d7e-4097-c77d-b012e06e408b"
      },
      "source": [
        "!wget https://jdbc.postgresql.org/download/postgresql-42.2.9.jar"
      ],
      "execution_count": 61,
      "outputs": [
        {
          "output_type": "stream",
          "text": [
            "--2020-07-19 21:52:39--  https://jdbc.postgresql.org/download/postgresql-42.2.9.jar\n",
            "Resolving jdbc.postgresql.org (jdbc.postgresql.org)... 72.32.157.228, 2001:4800:3e1:1::228\n",
            "Connecting to jdbc.postgresql.org (jdbc.postgresql.org)|72.32.157.228|:443... connected.\n",
            "HTTP request sent, awaiting response... 200 OK\n",
            "Length: 914037 (893K) [application/java-archive]\n",
            "Saving to: ‘postgresql-42.2.9.jar’\n",
            "\n",
            "postgresql-42.2.9.j 100%[===================>] 892.61K  4.79MB/s    in 0.2s    \n",
            "\n",
            "2020-07-19 21:52:39 (4.79 MB/s) - ‘postgresql-42.2.9.jar’ saved [914037/914037]\n",
            "\n"
          ],
          "name": "stdout"
        }
      ]
    },
    {
      "cell_type": "code",
      "metadata": {
        "id": "e0oY6xI1FLCo",
        "colab_type": "code",
        "colab": {}
      },
      "source": [
        "os.environ['SPARK_CLASSPATH'] = \"/content/postgresql-42.2.9.jar\""
      ],
      "execution_count": 92,
      "outputs": []
    },
    {
      "cell_type": "code",
      "metadata": {
        "id": "r1g1X5CcjRQC",
        "colab_type": "code",
        "colab": {}
      },
      "source": [
        "# Start Spark session\n",
        "from pyspark.sql import SparkSession\n",
        "spark = SparkSession.builder.appName(\"Amazon_Sports\").config(\"spark.driver.extraClassPath\", \"/content/postgresql-42.2.9.jar\").getOrCreate()"
      ],
      "execution_count": 4,
      "outputs": []
    },
    {
      "cell_type": "code",
      "metadata": {
        "id": "tiKQUhhjjdw-",
        "colab_type": "code",
        "colab": {}
      },
      "source": [
        "# Read in data from S3 Buckets\n",
        "from pyspark import SparkFiles\n",
        "url =\"https://s3.amazonaws.com/amazon-reviews-pds/tsv/amazon_reviews_us_Sports_v1_00.tsv.gz\"\n",
        "spark.sparkContext.addFile(url)\n",
        "df = spark.read.csv(SparkFiles.get(\"amazon_reviews_us_Sports_v1_00.tsv.gz\"), sep=\"\\t\", header=True, inferSchema=True)"
      ],
      "execution_count": 69,
      "outputs": []
    },
    {
      "cell_type": "code",
      "metadata": {
        "id": "dNJvUcVxmrQd",
        "colab_type": "code",
        "colab": {
          "base_uri": "https://localhost:8080/",
          "height": 224
        },
        "outputId": "e6307cd3-b5d8-4062-e45f-4a21606a6d6f"
      },
      "source": [
        "# Show DataFrame\n",
        "df.show(5)"
      ],
      "execution_count": 70,
      "outputs": [
        {
          "output_type": "stream",
          "text": [
            "+-----------+-----------+--------------+----------+--------------+--------------------+----------------+-----------+-------------+-----------+----+-----------------+--------------------+--------------------+-------------------+\n",
            "|marketplace|customer_id|     review_id|product_id|product_parent|       product_title|product_category|star_rating|helpful_votes|total_votes|vine|verified_purchase|     review_headline|         review_body|        review_date|\n",
            "+-----------+-----------+--------------+----------+--------------+--------------------+----------------+-----------+-------------+-----------+----+-----------------+--------------------+--------------------+-------------------+\n",
            "|         US|   48945260|R1WBPB8MDCCN8F|B012P7UPSM|     409940130|Chicago Blackhawk...|          Sports|          5|            0|          0|   N|                N|   LOVE IT. 6 stars!|Bought this last ...|2015-08-31 00:00:00|\n",
            "|         US|    5782091|R32M0YEWV77XG8|B001GQ3VHG|     657746679|Copag Poker Size ...|          Sports|          5|            1|          1|   N|                Y|       Shipped fast.|These are the bes...|2015-08-31 00:00:00|\n",
            "|         US|   45813853| RR8V7WR27NXJ5|B008VS8M58|     962442336|Baoer 223 5.56x45...|          Sports|          1|            0|          0|   N|                Y|Good idea if it w...|It looks good, th...|2015-08-31 00:00:00|\n",
            "|         US|    1593730|R1MHO5V9Z932AY|B005F06F4U|      74305227|All Terrain Tackl...|          Sports|          5|            0|          0|   N|                Y|          Five Stars|           Great jig|2015-08-31 00:00:00|\n",
            "|         US|   29605511|R16PD71086BD2V|B010T4IE2C|     787185588|Swim Cap - 3 Pack...|          Sports|          5|            0|          1|   N|                N|Great quality sil...|I love swimming i...|2015-08-31 00:00:00|\n",
            "+-----------+-----------+--------------+----------+--------------+--------------------+----------------+-----------+-------------+-----------+----+-----------------+--------------------+--------------------+-------------------+\n",
            "only showing top 5 rows\n",
            "\n"
          ],
          "name": "stdout"
        }
      ]
    },
    {
      "cell_type": "code",
      "metadata": {
        "id": "KvWH2X1zfgFu",
        "colab_type": "code",
        "colab": {
          "base_uri": "https://localhost:8080/",
          "height": 306
        },
        "outputId": "a2d9673a-9269-4da2-e1be-bc852a9e4e27"
      },
      "source": [
        "df.printSchema()"
      ],
      "execution_count": 71,
      "outputs": [
        {
          "output_type": "stream",
          "text": [
            "root\n",
            " |-- marketplace: string (nullable = true)\n",
            " |-- customer_id: integer (nullable = true)\n",
            " |-- review_id: string (nullable = true)\n",
            " |-- product_id: string (nullable = true)\n",
            " |-- product_parent: integer (nullable = true)\n",
            " |-- product_title: string (nullable = true)\n",
            " |-- product_category: string (nullable = true)\n",
            " |-- star_rating: string (nullable = true)\n",
            " |-- helpful_votes: integer (nullable = true)\n",
            " |-- total_votes: integer (nullable = true)\n",
            " |-- vine: string (nullable = true)\n",
            " |-- verified_purchase: string (nullable = true)\n",
            " |-- review_headline: string (nullable = true)\n",
            " |-- review_body: string (nullable = true)\n",
            " |-- review_date: timestamp (nullable = true)\n",
            "\n"
          ],
          "name": "stdout"
        }
      ]
    },
    {
      "cell_type": "code",
      "metadata": {
        "id": "p6PH0PWegU30",
        "colab_type": "code",
        "colab": {}
      },
      "source": [
        "vine_table = vine_table.withColumn(\"star_rating\", vine_table[\"star_rating\"].cast(IntegerType()))"
      ],
      "execution_count": 81,
      "outputs": []
    },
    {
      "cell_type": "code",
      "metadata": {
        "id": "zwq7icgigkoG",
        "colab_type": "code",
        "colab": {
          "base_uri": "https://localhost:8080/",
          "height": 136
        },
        "outputId": "f5702688-5f3b-4902-8ad9-b4b803f508aa"
      },
      "source": [
        "vine_table.printSchema()"
      ],
      "execution_count": 77,
      "outputs": [
        {
          "output_type": "stream",
          "text": [
            "root\n",
            " |-- review_id: string (nullable = true)\n",
            " |-- star_rating: integer (nullable = true)\n",
            " |-- helpful_votes: integer (nullable = true)\n",
            " |-- total_votes: integer (nullable = true)\n",
            " |-- vine: string (nullable = true)\n",
            "\n"
          ],
          "name": "stdout"
        }
      ]
    },
    {
      "cell_type": "code",
      "metadata": {
        "id": "66b04WEfm1QO",
        "colab_type": "code",
        "colab": {
          "base_uri": "https://localhost:8080/",
          "height": 459
        },
        "outputId": "f9f6ce24-5e3f-49e9-c43c-321075f747f4"
      },
      "source": [
        "# Load in a sql function to use columns\n",
        "from pyspark.sql.functions import col\n",
        "# review_id_table\n",
        "review_id_table = df.select([\"review_id\", \"customer_id\", \"product_id\", \"product_parent\", \"review_date\"])\n",
        "review_id_table.show()"
      ],
      "execution_count": 43,
      "outputs": [
        {
          "output_type": "stream",
          "text": [
            "+--------------+-----------+----------+--------------+-----------+\n",
            "|     review_id|customer_id|product_id|product_parent|review_date|\n",
            "+--------------+-----------+----------+--------------+-----------+\n",
            "|R1WBPB8MDCCN8F|   48945260|B012P7UPSM|     409940130| 2015-08-31|\n",
            "|R32M0YEWV77XG8|    5782091|B001GQ3VHG|     657746679| 2015-08-31|\n",
            "| RR8V7WR27NXJ5|   45813853|B008VS8M58|     962442336| 2015-08-31|\n",
            "|R1MHO5V9Z932AY|    1593730|B005F06F4U|      74305227| 2015-08-31|\n",
            "|R16PD71086BD2V|   29605511|B010T4IE2C|     787185588| 2015-08-31|\n",
            "|R1Z8IFGWTRWXT6|   11112959|B004RKJGLS|      94127483| 2015-08-31|\n",
            "|R3AUMSHAW73HWN|     108031|B005V3DCBU|     526977496| 2015-08-31|\n",
            "|R2KWDWFOHGX6FL|   13981540|B00MHT9WN8|      26521265| 2015-08-31|\n",
            "|R3H9543FWBWFBU|   37993909|B001CSIRQ8|     652431165| 2015-08-31|\n",
            "| RUANXOQ9W3OU5|   26040213|B001KZ3NOO|     635861713| 2015-08-31|\n",
            "|R31673RTGEZSW7|   34657602|B00005RCQS|      72099763| 2015-08-31|\n",
            "|R22OQLFSH42RCM|   14346192|B00FA7RWVI|     757354022| 2015-08-31|\n",
            "|R12LEL4F3TSZUJ|   38782687|B000MMH2HU|     272402599| 2015-08-31|\n",
            "|R2L9XWD03072NI|   27138575|B00WJOATDS|     375070208| 2015-08-31|\n",
            "|R2K0U91HIACANO|   11838771|B00BOM2JNY|     639666785| 2015-08-31|\n",
            "|R29SP6MBT7MXG7|     535800|B00OD5GAFM|      38715442| 2015-08-31|\n",
            "|R31XREAAMATEPY|   23156579|B00CAHDC1K|      57088652| 2015-08-31|\n",
            "|R2116AVB87SO38|   48107879|B004NLHXLG|     114125984| 2015-08-31|\n",
            "|R3RDVBB6O0X3HW|   27260960|B00L7OANWI|     883962979| 2015-08-31|\n",
            "|R3LW5T149LKKQM|   39537314|B0085PPSIQ|     691479969| 2015-08-31|\n",
            "+--------------+-----------+----------+--------------+-----------+\n",
            "only showing top 20 rows\n",
            "\n"
          ],
          "name": "stdout"
        }
      ]
    },
    {
      "cell_type": "code",
      "metadata": {
        "id": "rmQGRw2NPlnp",
        "colab_type": "code",
        "colab": {
          "base_uri": "https://localhost:8080/",
          "height": 136
        },
        "outputId": "fb44f161-fce5-4ed4-f7f4-5547a80637fd"
      },
      "source": [
        "review_id_table.printSchema()"
      ],
      "execution_count": 44,
      "outputs": [
        {
          "output_type": "stream",
          "text": [
            "root\n",
            " |-- review_id: string (nullable = true)\n",
            " |-- customer_id: string (nullable = true)\n",
            " |-- product_id: string (nullable = true)\n",
            " |-- product_parent: string (nullable = true)\n",
            " |-- review_date: string (nullable = true)\n",
            "\n"
          ],
          "name": "stdout"
        }
      ]
    },
    {
      "cell_type": "code",
      "metadata": {
        "id": "Bvc1S0fcNrp1",
        "colab_type": "code",
        "colab": {}
      },
      "source": [
        "# Filter for only columns with active users\n",
        "#review_id_table = review_id_table.filter(col(\"review_date\") is None)\n",
        "#review_id_table.show()\n",
        "\n",
        "from pyspark.sql import functions as F\n",
        "#review_id_table.filter(F.isnull(\"review_date\")).show()\n",
        "review_id_table_bkup = review_id_table.na.drop(subset=[\"review_date\"])"
      ],
      "execution_count": 35,
      "outputs": []
    },
    {
      "cell_type": "code",
      "metadata": {
        "id": "zshYF7dnvZuT",
        "colab_type": "code",
        "colab": {
          "base_uri": "https://localhost:8080/",
          "height": 459
        },
        "outputId": "0eb3a4d6-7e01-466a-d59a-bc21cc646f97"
      },
      "source": [
        "# products table\n",
        "products = df.select([\"product_id\", \"product_title\"])\n",
        "products = products.dropDuplicates(['product_id'])\n",
        "products.show()"
      ],
      "execution_count": 57,
      "outputs": [
        {
          "output_type": "stream",
          "text": [
            "+----------+--------------------+\n",
            "|product_id|       product_title|\n",
            "+----------+--------------------+\n",
            "|1570340439|Compass & Map Nav...|\n",
            "|9879000633|Swordmaster - Uni...|\n",
            "|B00004RAN1|24x7x7 Pro Cage Trap|\n",
            "|B00005OU7P|Putt and Return P...|\n",
            "|B00005V3EN|Airzone Trampolin...|\n",
            "|B00008Z7M2|Koolatron 401619 ...|\n",
            "|B0000AAEMO|Seahawks Franklin...|\n",
            "|B0000AI0K1|Outdoor Cap Heavy...|\n",
            "|B0000ANGL1|NFL Men's New Yor...|\n",
            "|B0000ANHRR|Heatgear Loose Lo...|\n",
            "|B0000AU3AK|Everlast Genuine ...|\n",
            "|B0000AUTWD|Cubby 5011 Mini Mite|\n",
            "|B0000AVZBW|G- Lox  Deerskin ...|\n",
            "|B0000AXJT5|Pro Mex Professio...|\n",
            "|B0000AXNWO|   Ande Fluorocarbon|\n",
            "|B0000AXUET|Star brite Brush ...|\n",
            "|B0000AY199|DU-BRO Fishing Tr...|\n",
            "|B0000AYEE8|Attwood Stainiles...|\n",
            "|B0000AYGZ1|Attwood Stainless...|\n",
            "|B0000AZ8LS|Tacstar 4-Shot Re...|\n",
            "+----------+--------------------+\n",
            "only showing top 20 rows\n",
            "\n"
          ],
          "name": "stdout"
        }
      ]
    },
    {
      "cell_type": "code",
      "metadata": {
        "id": "trp4fpFKw7-m",
        "colab_type": "code",
        "colab": {
          "base_uri": "https://localhost:8080/",
          "height": 459
        },
        "outputId": "1b541de4-3ee2-45d3-e720-bb4563c9fa93"
      },
      "source": [
        "# customers table\n",
        "from pyspark.sql.functions import countDistinct\n",
        "customers = df.groupBy('customer_id').count()\n",
        "customers.show()"
      ],
      "execution_count": 12,
      "outputs": [
        {
          "output_type": "stream",
          "text": [
            "+-----------+-----+\n",
            "|customer_id|count|\n",
            "+-----------+-----+\n",
            "|   45193257|   21|\n",
            "|   44934924|    1|\n",
            "|   11614909|    1|\n",
            "|   19186664|    1|\n",
            "|   50492011|    1|\n",
            "|   12988293|    3|\n",
            "|   22848554|    4|\n",
            "|   42126527|    1|\n",
            "|   48782599|    1|\n",
            "|   34146651|   10|\n",
            "|   43194960|    3|\n",
            "|   14127895|    1|\n",
            "|   30636778|   44|\n",
            "|   30274993|    1|\n",
            "|   28069251|    1|\n",
            "|   20545025|    5|\n",
            "|   28029004|    4|\n",
            "|   51290010|    1|\n",
            "|   37367363|    1|\n",
            "|    2583392|    7|\n",
            "+-----------+-----+\n",
            "only showing top 20 rows\n",
            "\n"
          ],
          "name": "stdout"
        }
      ]
    },
    {
      "cell_type": "code",
      "metadata": {
        "id": "B7OLzdHxcz_f",
        "colab_type": "code",
        "colab": {}
      },
      "source": [
        "customers=customers.withColumnRenamed(\"count\",\"customer_count\")"
      ],
      "execution_count": 62,
      "outputs": []
    },
    {
      "cell_type": "code",
      "metadata": {
        "id": "WVrpoH42dfJP",
        "colab_type": "code",
        "colab": {
          "base_uri": "https://localhost:8080/",
          "height": 85
        },
        "outputId": "4fd8773c-4fc7-415b-878c-215d1275428e"
      },
      "source": [
        "customers.printSchema()"
      ],
      "execution_count": 63,
      "outputs": [
        {
          "output_type": "stream",
          "text": [
            "root\n",
            " |-- customer_id: string (nullable = true)\n",
            " |-- customer_count: long (nullable = false)\n",
            "\n"
          ],
          "name": "stdout"
        }
      ]
    },
    {
      "cell_type": "code",
      "metadata": {
        "id": "KCkefYBjdteh",
        "colab_type": "code",
        "colab": {}
      },
      "source": [
        "customers = customers.withColumn(\"customer_id\", customers[\"customer_id\"].cast(IntegerType()))\n",
        "customers = customers.withColumn(\"customer_count\", customers[\"customer_count\"].cast(IntegerType()))"
      ],
      "execution_count": 65,
      "outputs": []
    },
    {
      "cell_type": "code",
      "metadata": {
        "id": "-jdS1tV2vtNX",
        "colab_type": "code",
        "colab": {
          "base_uri": "https://localhost:8080/",
          "height": 459
        },
        "outputId": "af2436a5-faef-4cd6-bbf4-4d447d178093"
      },
      "source": [
        "# vine_table\n",
        "vine_table =  df.select([\"review_id\", \"star_rating\", \"helpful_votes\", \"total_votes\", \"vine\"])\n",
        "vine_table.show()"
      ],
      "execution_count": 74,
      "outputs": [
        {
          "output_type": "stream",
          "text": [
            "+--------------+-----------+-------------+-----------+----+\n",
            "|     review_id|star_rating|helpful_votes|total_votes|vine|\n",
            "+--------------+-----------+-------------+-----------+----+\n",
            "|R1WBPB8MDCCN8F|          5|            0|          0|   N|\n",
            "|R32M0YEWV77XG8|          5|            1|          1|   N|\n",
            "| RR8V7WR27NXJ5|          1|            0|          0|   N|\n",
            "|R1MHO5V9Z932AY|          5|            0|          0|   N|\n",
            "|R16PD71086BD2V|          5|            0|          1|   N|\n",
            "|R1Z8IFGWTRWXT6|          3|            0|          0|   N|\n",
            "|R3AUMSHAW73HWN|          4|            2|          3|   N|\n",
            "|R2KWDWFOHGX6FL|          5|            0|          0|   N|\n",
            "|R3H9543FWBWFBU|          5|            1|          1|   N|\n",
            "| RUANXOQ9W3OU5|          5|            0|          0|   N|\n",
            "|R31673RTGEZSW7|          5|            2|          2|   N|\n",
            "|R22OQLFSH42RCM|          5|            1|          1|   N|\n",
            "|R12LEL4F3TSZUJ|          5|            2|          2|   N|\n",
            "|R2L9XWD03072NI|          5|            1|          2|   N|\n",
            "|R2K0U91HIACANO|          5|            0|          0|   N|\n",
            "|R29SP6MBT7MXG7|          4|            3|          3|   N|\n",
            "|R31XREAAMATEPY|          5|            0|          0|   N|\n",
            "|R2116AVB87SO38|          5|            0|          0|   N|\n",
            "|R3RDVBB6O0X3HW|          5|            0|          0|   N|\n",
            "|R3LW5T149LKKQM|          4|            0|          0|   N|\n",
            "+--------------+-----------+-------------+-----------+----+\n",
            "only showing top 20 rows\n",
            "\n"
          ],
          "name": "stdout"
        }
      ]
    },
    {
      "cell_type": "code",
      "metadata": {
        "id": "_1J18_OS0h9w",
        "colab_type": "code",
        "colab": {}
      },
      "source": [
        "# Configure settings for RDS\n",
        "mode = \"append\"\n",
        "jdbc_url=\"jdbc:postgresql://challengedb.cargnvj1ikcv.us-east-2.rds.amazonaws.com:5432/ChallengeDB\"\n",
        "config = {\"user\":\"postgres\", \n",
        "          \"password\": \"135792468\", \n",
        "          \"driver\": \"org.postgresql.Driver\"}"
      ],
      "execution_count": 14,
      "outputs": []
    },
    {
      "cell_type": "code",
      "metadata": {
        "id": "LmiL2ddJLkOH",
        "colab_type": "code",
        "colab": {}
      },
      "source": [
        "from pyspark.sql.types import IntegerType\n",
        "review_id_table = review_id_table.withColumn(\"customer_id\", review_id_table[\"customer_id\"].cast(IntegerType()))\n",
        "review_id_table = review_id_table.withColumn(\"product_parent\", review_id_table[\"product_parent\"].cast(IntegerType()))"
      ],
      "execution_count": 47,
      "outputs": []
    },
    {
      "cell_type": "code",
      "metadata": {
        "id": "YkNlp12bMiYH",
        "colab_type": "code",
        "colab": {
          "base_uri": "https://localhost:8080/",
          "height": 136
        },
        "outputId": "18b3c3a0-30d6-488c-b9f0-55702a972e85"
      },
      "source": [
        "from datetime import datetime\n",
        "from pyspark.sql.functions import col, udf, unix_timestamp, to_date\n",
        "from pyspark.sql.types import DateType\n",
        "\n",
        "\n",
        "# Setting an user define function:\n",
        "# This function converts the string cell into a date:\n",
        "#func =  udf (lambda x: datetime.strptime(x, '%Y-%m-%d'), DateType())\n",
        "#func =  udf (lambda x: datetime.strptime(x, '%Y-%m-%d'), DateType())\n",
        "\n",
        "review_id_table = review_id_table.withColumn('review_date', to_date(unix_timestamp(col('review_date'), 'yyyy-MM-dd').cast(\"timestamp\")))\n",
        "\n",
        "review_id_table.printSchema()"
      ],
      "execution_count": 45,
      "outputs": [
        {
          "output_type": "stream",
          "text": [
            "root\n",
            " |-- review_id: string (nullable = true)\n",
            " |-- customer_id: string (nullable = true)\n",
            " |-- product_id: string (nullable = true)\n",
            " |-- product_parent: string (nullable = true)\n",
            " |-- review_date: date (nullable = true)\n",
            "\n"
          ],
          "name": "stdout"
        }
      ]
    },
    {
      "cell_type": "code",
      "metadata": {
        "id": "qz-FO4rLR8Xu",
        "colab_type": "code",
        "colab": {
          "base_uri": "https://localhost:8080/",
          "height": 136
        },
        "outputId": "f8b9c00d-0c00-4969-eb79-018ca8461205"
      },
      "source": [
        "review_id_table.printSchema()"
      ],
      "execution_count": 48,
      "outputs": [
        {
          "output_type": "stream",
          "text": [
            "root\n",
            " |-- review_id: string (nullable = true)\n",
            " |-- customer_id: integer (nullable = true)\n",
            " |-- product_id: string (nullable = true)\n",
            " |-- product_parent: integer (nullable = true)\n",
            " |-- review_date: date (nullable = true)\n",
            "\n"
          ],
          "name": "stdout"
        }
      ]
    },
    {
      "cell_type": "code",
      "metadata": {
        "id": "KjWNi_QH0-5K",
        "colab_type": "code",
        "colab": {}
      },
      "source": [
        "# Write DataFrame to  review_id_table in RDS\n",
        "review_id_table.write.jdbc(url=jdbc_url, table='review_id_table', mode=mode, properties=config)"
      ],
      "execution_count": 49,
      "outputs": []
    },
    {
      "cell_type": "code",
      "metadata": {
        "id": "P6rShKhFJjky",
        "colab_type": "code",
        "colab": {
          "base_uri": "https://localhost:8080/",
          "height": 136
        },
        "outputId": "afbde97e-1bac-4f9e-bb68-07cc4835e419"
      },
      "source": [
        "review_id_table.printSchema()"
      ],
      "execution_count": 17,
      "outputs": [
        {
          "output_type": "stream",
          "text": [
            "root\n",
            " |-- review_id: string (nullable = true)\n",
            " |-- customer_id: string (nullable = true)\n",
            " |-- product_id: string (nullable = true)\n",
            " |-- product_parent: string (nullable = true)\n",
            " |-- review_date: string (nullable = true)\n",
            "\n"
          ],
          "name": "stdout"
        }
      ]
    },
    {
      "cell_type": "code",
      "metadata": {
        "id": "1rwg_eX4VP8f",
        "colab_type": "code",
        "colab": {
          "base_uri": "https://localhost:8080/",
          "height": 85
        },
        "outputId": "2147992e-5e51-43e4-97a6-8ba0327e0cac"
      },
      "source": [
        "products.printSchema()"
      ],
      "execution_count": 51,
      "outputs": [
        {
          "output_type": "stream",
          "text": [
            "root\n",
            " |-- product_id: string (nullable = true)\n",
            " |-- product_title: string (nullable = true)\n",
            "\n"
          ],
          "name": "stdout"
        }
      ]
    },
    {
      "cell_type": "code",
      "metadata": {
        "id": "CgcKv6rJZmL1",
        "colab_type": "code",
        "colab": {
          "base_uri": "https://localhost:8080/",
          "height": 51
        },
        "outputId": "d2e8f440-b0c0-48cd-af57-86028947a28f"
      },
      "source": [
        "print(products.select('product_id').distinct().count())\n",
        "print(products.select('product_id').count())"
      ],
      "execution_count": 58,
      "outputs": [
        {
          "output_type": "stream",
          "text": [
            "1046150\n",
            "1046150\n"
          ],
          "name": "stdout"
        }
      ]
    },
    {
      "cell_type": "code",
      "metadata": {
        "id": "zpGDuTZX1hDP",
        "colab_type": "code",
        "colab": {}
      },
      "source": [
        "# Write DataFrame to products table in RDS\n",
        "products.write.jdbc(url=jdbc_url, table='products', mode=mode, properties=config)"
      ],
      "execution_count": 59,
      "outputs": []
    },
    {
      "cell_type": "code",
      "metadata": {
        "id": "1Fv_Iv531rkn",
        "colab_type": "code",
        "colab": {}
      },
      "source": [
        "# Write DataFrame to customers table in RDS\n",
        "customers.write.jdbc(url=jdbc_url, table='customers', mode=mode, properties=config)"
      ],
      "execution_count": 66,
      "outputs": []
    },
    {
      "cell_type": "code",
      "metadata": {
        "id": "zIurHoDCfJUG",
        "colab_type": "code",
        "colab": {
          "base_uri": "https://localhost:8080/",
          "height": 136
        },
        "outputId": "895df1b5-b098-4086-cd01-3e6c6a7e04b1"
      },
      "source": [
        "vine_table.printSchema()"
      ],
      "execution_count": 67,
      "outputs": [
        {
          "output_type": "stream",
          "text": [
            "root\n",
            " |-- review_id: string (nullable = true)\n",
            " |-- star_rating: string (nullable = true)\n",
            " |-- helpful_votes: string (nullable = true)\n",
            " |-- total_votes: string (nullable = true)\n",
            " |-- vine: string (nullable = true)\n",
            "\n"
          ],
          "name": "stdout"
        }
      ]
    },
    {
      "cell_type": "code",
      "metadata": {
        "id": "NhWluGTTfOid",
        "colab_type": "code",
        "colab": {}
      },
      "source": [
        ""
      ],
      "execution_count": null,
      "outputs": []
    },
    {
      "cell_type": "code",
      "metadata": {
        "id": "ctyKEEW21yl8",
        "colab_type": "code",
        "colab": {}
      },
      "source": [
        "# Write DataFrame to  vine_table in RDS\n",
        "vine_table.write.jdbc(url=jdbc_url, table='vine_table', mode=mode, properties=config)"
      ],
      "execution_count": 78,
      "outputs": []
    },
    {
      "cell_type": "code",
      "metadata": {
        "id": "o4j2XxZlmleW",
        "colab_type": "code",
        "colab": {
          "base_uri": "https://localhost:8080/",
          "height": 459
        },
        "outputId": "be7ee8f9-ee3d-4942-c0ed-178be5ca4c66"
      },
      "source": [
        "# Analysis Portion\n",
        "vine_table = vine_table.filter(col(\"star_rating\") == 5)\n",
        "vine_table.show()"
      ],
      "execution_count": 80,
      "outputs": [
        {
          "output_type": "stream",
          "text": [
            "+--------------+-----------+-------------+-----------+----+\n",
            "|     review_id|star_rating|helpful_votes|total_votes|vine|\n",
            "+--------------+-----------+-------------+-----------+----+\n",
            "|R1WBPB8MDCCN8F|          5|            0|          0|   N|\n",
            "|R32M0YEWV77XG8|          5|            1|          1|   N|\n",
            "|R1MHO5V9Z932AY|          5|            0|          0|   N|\n",
            "|R16PD71086BD2V|          5|            0|          1|   N|\n",
            "|R2KWDWFOHGX6FL|          5|            0|          0|   N|\n",
            "|R3H9543FWBWFBU|          5|            1|          1|   N|\n",
            "| RUANXOQ9W3OU5|          5|            0|          0|   N|\n",
            "|R31673RTGEZSW7|          5|            2|          2|   N|\n",
            "|R22OQLFSH42RCM|          5|            1|          1|   N|\n",
            "|R12LEL4F3TSZUJ|          5|            2|          2|   N|\n",
            "|R2L9XWD03072NI|          5|            1|          2|   N|\n",
            "|R2K0U91HIACANO|          5|            0|          0|   N|\n",
            "|R31XREAAMATEPY|          5|            0|          0|   N|\n",
            "|R2116AVB87SO38|          5|            0|          0|   N|\n",
            "|R3RDVBB6O0X3HW|          5|            0|          0|   N|\n",
            "|R1THNVUD55C27K|          5|            0|          0|   N|\n",
            "|R2V1NIGCEDQMWR|          5|            0|          0|   N|\n",
            "| RIJXY4FJE2U7O|          5|            0|          0|   N|\n",
            "| RFZBXOMZWEYPV|          5|            0|          0|   N|\n",
            "|R1XW7YNDY1HHV2|          5|            0|          0|   N|\n",
            "+--------------+-----------+-------------+-----------+----+\n",
            "only showing top 20 rows\n",
            "\n"
          ],
          "name": "stdout"
        }
      ]
    }
  ]
}